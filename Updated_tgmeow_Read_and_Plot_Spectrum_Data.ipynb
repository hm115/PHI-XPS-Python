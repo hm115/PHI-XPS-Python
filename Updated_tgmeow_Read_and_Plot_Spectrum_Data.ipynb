{
  "nbformat": 4,
  "nbformat_minor": 0,
  "metadata": {
    "colab": {
      "name": "Updated-tgmeow_Read and Plot Spectrum Data.ipynb",
      "provenance": [],
      "collapsed_sections": [],
      "include_colab_link": true
    },
    "kernelspec": {
      "name": "python3",
      "display_name": "Python 3"
    }
  },
  "cells": [
    {
      "cell_type": "markdown",
      "metadata": {
        "id": "view-in-github",
        "colab_type": "text"
      },
      "source": [
        "<a href=\"https://colab.research.google.com/github/hm115/PHI-XPS-Python/blob/main/Updated_tgmeow_Read_and_Plot_Spectrum_Data.ipynb\" target=\"_parent\"><img src=\"https://colab.research.google.com/assets/colab-badge.svg\" alt=\"Open In Colab\"/></a>"
      ]
    },
    {
      "cell_type": "markdown",
      "metadata": {
        "id": "xwHSIuNcmkrY"
      },
      "source": [
        "You can use the built in \"Files\" explorer on the left bar to view your Google Drive."
      ]
    },
    {
      "cell_type": "code",
      "metadata": {
        "id": "5UECFNr8mttl",
        "colab": {
          "base_uri": "https://localhost:8080/"
        },
        "outputId": "6621654e-3486-442f-b004-ff2203537f40"
      },
      "source": [
        "from google.colab import drive\n",
        "import numpy as np\n",
        "import struct\n",
        "import array\n",
        "import matplotlib.pyplot as plt\n",
        "import sys\n",
        "\n",
        "drive.mount('/content/drive')"
      ],
      "execution_count": null,
      "outputs": [
        {
          "output_type": "stream",
          "text": [
            "Drive already mounted at /content/drive; to attempt to forcibly remount, call drive.mount(\"/content/drive\", force_remount=True).\n"
          ],
          "name": "stdout"
        }
      ]
    },
    {
      "cell_type": "code",
      "metadata": {
        "id": "OSSWTZLalUVz"
      },
      "source": [
        "class XSpectrum:\n",
        "\n",
        "    def __init__(self):\n",
        "        self._regions = []\n",
        "        self._XPS_REGION_START_STR = b'DP'\n",
        "        self._XPS_HEADER_SIZE = 42\n",
        "   \n",
        "    def load_xps(self, path):\n",
        "        \"\"\"\n",
        "        Read and parse XPS file according to the reverse engineering of\n",
        "        Robert Forest's Python3convert-multipak-to-XPSPEAK-columbia.py\n",
        "        \"\"\"\n",
        "        file_str = \"\"\n",
        "        # We read in the entire file because iterating through is tedious.\n",
        "        with open(path, 'rb') as f:\n",
        "            print('Reading XPS from ' + path)\n",
        "            file_str = f.read();\n",
        "            f.close()\n",
        "\n",
        "        version_str = file_str[0:11].decode('utf-8')\n",
        "        print(f'File version is: {version_str}')\n",
        "\n",
        "        idx = file_str.find(self._XPS_REGION_START_STR) + len(self._XPS_REGION_START_STR)\n",
        "        while idx != -1:\n",
        "            print(f'IDX: {idx}')\n",
        "            (region, size) = self.__xps_read_region(file_str, idx)\n",
        "            self._regions.append(region)\n",
        "            idx = file_str.find(self._XPS_REGION_START_STR, idx + size) + len(self._XPS_REGION_START_STR)\n",
        "\n",
        "        print('Done!')\n",
        "    \n",
        "  \n",
        "    def load_spe(self, path):\n",
        "        \"\"\"\n",
        "        Read and parse SPE file according to the reverse engineering of\n",
        "        Robert Forest's Python3convert-multipak-to-XPSPEAK-columbia.py\n",
        "        \"\"\"\n",
        "        with open(path, 'rb') as f:\n",
        "            print('Reading SPE from ' + path)\n",
        "            num_regions = self.__spe_get_number_of_regions(f)\n",
        "            BE_parameters = self.__spe_get_BE_parameters(f, num_regions)\n",
        "            self.__spe_convert_multipak_file(f, BE_parameters, num_regions)\n",
        "        print('Done!')\n",
        "\n",
        "    # XPS helper functions\n",
        "    def __xps_read_region(self, file_str, idx):\n",
        "        \"\"\"\n",
        "        \"\"\"\n",
        "        curr_reg = dict()\n",
        "\n",
        "        \"\"\" Header contains: (total 42 bytes)\n",
        "        0: region_size (2 bytes)\n",
        "        1: unknown: uint 655353 (4)\n",
        "        2: 20 characters for the region_name, with whitespace padding (20)\n",
        "        3: region_size again ?? (2)\n",
        "        4: unknown: int of 1 (2)\n",
        "        5: region_size + 1 (2)\n",
        "        and 10 zeros to end the header (10)\n",
        "        \"\"\"\n",
        "        region_header = struct.unpack_from('<HI20sHHH10x', file_str, idx)\n",
        "        print(region_header)\n",
        "        idx += self._XPS_HEADER_SIZE\n",
        "\n",
        "        curr_reg['region_size'] = region_header[0]\n",
        "        curr_reg['region_name'] = region_header[2].strip()\n",
        "        \n",
        "        # Read region be\n",
        "        curr_reg['be_data'] = np.array(struct.unpack_from(f'<{region_header[0]}f', file_str, idx))\n",
        "        idx += region_header[0] * 4\n",
        "\n",
        "        # Strange whitespace of 1, region_size+1, and 10 zeros\n",
        "        unknown_whitespace = struct.unpack_from('<HH10x', file_str, idx)\n",
        "        idx += 14\n",
        "\n",
        "        # Read region intensity\n",
        "        curr_reg['intensity'] = np.array(struct.unpack_from(f'<{region_header[0]}f', file_str, idx))\n",
        "        idx += region_header[0] * 4\n",
        "\n",
        "        \"\"\" Footer contains:\n",
        "        0: max_BE\n",
        "        1: min_BE\n",
        "        2: max_intensity\n",
        "        3: min_intensity\n",
        "        and LOTS of whitespace for some reason...\n",
        "        \"\"\"\n",
        "        region_footer = struct.unpack_from('<4f', file_str, idx)\n",
        "        idx += 76\n",
        "\n",
        "        curr_reg['max_be'] = region_footer[0]\n",
        "        curr_reg['min_be'] = region_footer[1]\n",
        "        curr_reg['max_intensity'] = region_footer[2]\n",
        "        curr_reg['min_intensity'] = region_footer[3]\n",
        "\n",
        "        # I think it's nothing but idk why\n",
        "        region_post_footers = []\n",
        "        for i in range(6):\n",
        "            region_post_footers.append(struct.unpack_from(f'<HH10x{region_header[0]}f', file_str, idx + i*18+region_header[0]*4))\n",
        "\n",
        "        curr_reg['post_footers'] = region_post_footers\n",
        "        \n",
        "        region_size = self._XPS_HEADER_SIZE + region_header[0] * 4 * 2 + 14 + 16 + (6 *(2+2+region_header[0]*4+10)) + 18\n",
        "\n",
        "        return (curr_reg, region_size)\n",
        "\n",
        "\n",
        "    # SPE helper functions\n",
        "\n",
        "    def __spe_get_number_of_regions(self, file):\n",
        "        \"\"\"\n",
        "        Returns the total number of elements (\"regions\") from multi-scan\n",
        "        \"\"\"\n",
        "        file_string = file.read()\n",
        "        i = file_string.rfind(b'NoSpectralReg: ') + len('NoSpectralReg: ')\n",
        "        file.seek(i)\n",
        "        return int(file.readline())\n",
        "\n",
        "    def __spe_get_BE_parameters(self, file, num_regions):\n",
        "        \"\"\"Returns a 2D list of binding energy parameters as strings\n",
        "        First dimension is the region number\n",
        "        Second dimension is a list of individual parameters for that region\n",
        "        Indices: 3-region name, 5-region size, 6-step size, 7-high BE, 8-low BE\n",
        "        \"\"\"\n",
        "        BE_parameters = []\n",
        "        for line_number in range(num_regions):\n",
        "            BE_parameters.append(file.readline())\n",
        "            BE_parameters[line_number] = BE_parameters[line_number].split(b' ')\n",
        "        return BE_parameters\n",
        "\n",
        "    def __spe_convert_multipak_file(self, file, BE_parameters, num_regions):\n",
        "        # Set up regions.\n",
        "        self._regions = [dict() for _ in range(num_regions)]\n",
        "\n",
        "        # Go to start of data in multipak file.\n",
        "        data_size = 0\n",
        "        for i in range(num_regions):\n",
        "            data_size += int(BE_parameters[i][5])\n",
        "        file.seek(-8 * data_size, 2) \n",
        "\n",
        "        # Process data in each region.\n",
        "        for i in range(num_regions):\n",
        "            # Reference to regions dict.\n",
        "            curr_reg = self._regions[i]\n",
        "\n",
        "            region_params = BE_parameters[i]\n",
        "            curr_reg['max_be'] = float(region_params[7])\n",
        "            curr_reg['min_be'] = float(region_params[8])\n",
        "            curr_reg['region_size'] = int(region_params[5])\n",
        "            intensity_data_double = array.array('d')\n",
        "            intensity_data_double.fromfile(file, curr_reg['region_size'])\n",
        "                        \n",
        "            # Region metadata.  Not sure if useful.\n",
        "            curr_reg['region_name'] = region_params[3]\n",
        "\n",
        "            # I guess XPS format doesn't support double?\n",
        "            curr_reg['be_data'] = np.linspace(curr_reg['max_be'], curr_reg['min_be'], curr_reg['region_size'])\n",
        "\n",
        "            curr_reg['intensity'] = np.array(intensity_data_double)\n",
        "\n",
        "            curr_reg['min_intensity'] = min(curr_reg['intensity'])\n",
        "            curr_reg['max_intensity'] = max(curr_reg['intensity'])"
      ],
      "execution_count": null,
      "outputs": []
    },
    {
      "cell_type": "code",
      "metadata": {
        "id": "2Q1WtsQzm6SM",
        "colab": {
          "base_uri": "https://localhost:8080/"
        },
        "outputId": "3530eee6-149f-416a-94f4-703b4521e922"
      },
      "source": [
        "data1 = XSpectrum()\n",
        "# data1.load_xps('/content/drive/My Drive/xps_experiments/2001170002_Fitted_3.xps')\n",
        "# data1.load_spe('/content/drive/My Drive/xps_experiments/2001170002.spe')\n",
        "data1.load_spe('/content/drive/My Drive/Forschung/Data/XPS/XPS Data/Mo2C/200911_Mo2C_syn1_fine0002.SPE')\n",
        "# print(data1._regions[0])\n",
        "\n",
        "# TODO the problem with XPS is that settings and curves are included in the file format. The exact encoding is not clear. It is also not clear where the number of regions is indicated.\n",
        "#data2 = XSpectrum()\n",
        "#data2.load_xps('/content/drive/My Drive/xps_experiments/2001170002_Fitted_3.xps')\n",
        "# data2.load_xps('/content/drive/My Drive/xps_experiments/C1s.xps')"
      ],
      "execution_count": null,
      "outputs": [
        {
          "output_type": "stream",
          "text": [
            "Reading SPE from /content/drive/My Drive/Forschung/Data/XPS/XPS Data/Mo2C/200911_Mo2C_syn1_fine0002.SPE\n",
            "Done!\n"
          ],
          "name": "stdout"
        }
      ]
    },
    {
      "cell_type": "code",
      "metadata": {
        "id": "DRx4ZsmxJzaX",
        "colab": {
          "base_uri": "https://localhost:8080/"
        },
        "outputId": "ded2b30e-352d-42ef-fc77-44ca0eb92217"
      },
      "source": [
        "len(data1._regions)"
      ],
      "execution_count": null,
      "outputs": [
        {
          "output_type": "execute_result",
          "data": {
            "text/plain": [
              "4"
            ]
          },
          "metadata": {
            "tags": []
          },
          "execution_count": 7
        }
      ]
    },
    {
      "cell_type": "code",
      "metadata": {
        "id": "DaLVSB5vnGy1",
        "colab": {
          "base_uri": "https://localhost:8080/",
          "height": 265
        },
        "outputId": "d4f33ef3-5dce-4bed-f890-6375636e3b92"
      },
      "source": [
        "fig, ax = plt.subplots(4)\n",
        "for i in range(len(data1._regions)):\n",
        "    ax[i].plot(data1._regions[i]['be_data'], data1._regions[i]['intensity'])\n",
        "plt.title(\"Spectrum Plot\")\n",
        "plt.show()"
      ],
      "execution_count": null,
      "outputs": [
        {
          "output_type": "display_data",
          "data": {
            "image/png": "[encoded data removed]",
            "text/plain": [
              "<Figure size 432x288 with 4 Axes>"
            ]
          },
          "metadata": {
            "tags": [],
            "needs_background": "light"
          }
        }
      ]
    },
    {
      "cell_type": "code",
      "metadata": {
        "id": "TrnZe0YhidtJ"
      },
      "source": [
        ""
      ],
      "execution_count": null,
      "outputs": []
    }
  ]
}